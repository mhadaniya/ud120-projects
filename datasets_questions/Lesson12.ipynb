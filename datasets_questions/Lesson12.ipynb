{
 "cells": [
  {
   "cell_type": "markdown",
   "metadata": {},
   "source": [
    "# Lesson 12: Dataset questions\n"
   ]
  },
  {
   "cell_type": "code",
   "execution_count": 1,
   "metadata": {
    "collapsed": false
   },
   "outputs": [],
   "source": [
    "import pickle\n",
    "\n",
    "enron_data = pickle.load(open(\"../final_project/final_project_dataset.pkl\", \"r\"))\n",
    "\n"
   ]
  },
  {
   "cell_type": "code",
   "execution_count": 3,
   "metadata": {
    "collapsed": false
   },
   "outputs": [
    {
     "name": "stdout",
     "output_type": "stream",
     "text": [
      "# enron people: 146\n",
      "# features: 21\n"
     ]
    }
   ],
   "source": [
    "print ('# enron people: ' + str(len(enron_data)))\n",
    "\n",
    "print ('# features: ' + str(len(enron_data['METTS MARK'].keys())))"
   ]
  },
  {
   "cell_type": "code",
   "execution_count": 4,
   "metadata": {
    "collapsed": false
   },
   "outputs": [
    {
     "name": "stdout",
     "output_type": "stream",
     "text": [
      "HANNON KEVIN P\n",
      "COLWELL WESLEY\n",
      "RIEKER PAULA H\n",
      "KOPPER MICHAEL J\n",
      "SHELBY REX\n",
      "DELAINEY DAVID W\n",
      "LAY KENNETH L\n",
      "BOWEN JR RAYMOND M\n",
      "BELDEN TIMOTHY N\n",
      "FASTOW ANDREW S\n",
      "CALGER CHRISTOPHER F\n",
      "RICE KENNETH D\n",
      "SKILLING JEFFREY K\n",
      "YEAGER F SCOTT\n",
      "HIRKO JOSEPH\n",
      "KOENIG MARK E\n",
      "CAUSEY RICHARD A\n",
      "GLISAN JR BEN F\n",
      "# POIs: 18\n"
     ]
    }
   ],
   "source": [
    "poi = list()\n",
    "count = 0\n",
    "for person in enron_data:\n",
    "    if (enron_data[person][\"poi\"] == 1):\n",
    "        poi.append(person)\n",
    "        count = count + 1\n",
    "        print person\n",
    "\n",
    "print ('# POIs: ' + str(count))"
   ]
  },
  {
   "cell_type": "code",
   "execution_count": 13,
   "metadata": {
    "collapsed": false
   },
   "outputs": [
    {
     "name": "stdout",
     "output_type": "stream",
     "text": [
      "#names in poi_names: 35\n"
     ]
    }
   ],
   "source": [
    "names_file = open('../final_project/poi_names.txt', \"r\")\n",
    "names_file.readline()\n",
    "names_file.readline()\n",
    "names = list()\n",
    "\n",
    "for line in names_file:\n",
    "    names.append(line)    \n",
    "\n",
    "print('#names in poi_names: ' + str(len(names)))\n",
    "           "
   ]
  },
  {
   "cell_type": "markdown",
   "metadata": {},
   "source": [
    "### Quiz: Query the Dataset 1\n",
    "\n",
    "Like any dict of dicts, individual people/features can be accessed like so:\n",
    "\n",
    "`enron_data[\"LASTNAME FIRSTNAME\"][\"feature_name\"]`\n",
    "or, sometimes\n",
    "`enron_data[\"LASTNAME FIRSTNAME MIDDLEINITIAL\"][\"feature_name\"]`\n",
    "\n",
    "What is the total value of the stock belonging to James Prentice?\n",
    "Start Quiz\n",
    "\n",
    "Lastname, Firstname and Middle Initial all in CAPS.\n"
   ]
  },
  {
   "cell_type": "code",
   "execution_count": 17,
   "metadata": {
    "collapsed": false
   },
   "outputs": [
    {
     "data": {
      "text/plain": [
       "1095040"
      ]
     },
     "execution_count": 17,
     "metadata": {},
     "output_type": "execute_result"
    }
   ],
   "source": [
    "enron_data[\"PRENTICE JAMES\"][\"total_stock_value\"]"
   ]
  },
  {
   "cell_type": "markdown",
   "metadata": {},
   "source": [
    "### Quiz: Query the Dataset 2\n",
    "\n",
    "How many email messages do we have from Wesley Colwell to persons of interest?"
   ]
  },
  {
   "cell_type": "code",
   "execution_count": 20,
   "metadata": {
    "collapsed": false
   },
   "outputs": [
    {
     "data": {
      "text/plain": [
       "11"
      ]
     },
     "execution_count": 20,
     "metadata": {},
     "output_type": "execute_result"
    }
   ],
   "source": [
    "enron_data[\"COLWELL WESLEY\"][\"from_this_person_to_poi\"]"
   ]
  },
  {
   "cell_type": "markdown",
   "metadata": {},
   "source": [
    "### Quiz: Query the Dataset 3\n",
    "\n",
    "What’s the value of stock options exercised by Jeffrey K Skilling?\n"
   ]
  },
  {
   "cell_type": "code",
   "execution_count": 22,
   "metadata": {
    "collapsed": false
   },
   "outputs": [
    {
     "data": {
      "text/plain": [
       "19250000"
      ]
     },
     "execution_count": 22,
     "metadata": {},
     "output_type": "execute_result"
    }
   ],
   "source": [
    "enron_data[\"SKILLING JEFFREY K\"][\"exercised_stock_options\"]"
   ]
  },
  {
   "cell_type": "markdown",
   "metadata": {},
   "source": [
    "### Quiz: Follow the Money\n",
    "\n",
    "Of these three individuals (Lay, Skilling and Fastow), who took home the most money (largest value of “total_payments” feature)?\n",
    "\n",
    "How much money did that person get?"
   ]
  },
  {
   "cell_type": "code",
   "execution_count": 25,
   "metadata": {
    "collapsed": false
   },
   "outputs": [
    {
     "name": "stdout",
     "output_type": "stream",
     "text": [
      "LAY KENNETH L: 103559793\n",
      "SKILLING JEFFREY K: 8682716\n",
      "FASTOW ANDREW S: 2424083\n"
     ]
    }
   ],
   "source": [
    "print(\"LAY KENNETH L: \" + str(enron_data[\"LAY KENNETH L\"][\"total_payments\"]))\n",
    "print(\"SKILLING JEFFREY K: \" + str(enron_data[\"SKILLING JEFFREY K\"][\"total_payments\"]))\n",
    "print(\"FASTOW ANDREW S: \" + str(enron_data[\"FASTOW ANDREW S\"][\"total_payments\"]))"
   ]
  },
  {
   "cell_type": "markdown",
   "metadata": {},
   "source": [
    "### Quiz: Dealing with Unfilled Features\n",
    "\n",
    "How many folks in this dataset have a quantified salary? What about a known email address?\n"
   ]
  },
  {
   "cell_type": "code",
   "execution_count": 34,
   "metadata": {
    "collapsed": false
   },
   "outputs": [
    {
     "name": "stdout",
     "output_type": "stream",
     "text": [
      "95\n",
      "111\n"
     ]
    }
   ],
   "source": [
    "countSalary = 0\n",
    "countEmail = 0\n",
    "for person in enron_data:\n",
    "    if (enron_data[person][\"salary\"] == 'NaN'):    \n",
    "        countSalary = countSalary + 1\n",
    "    if (enron_data[person][\"email_address\"] == 'NaN'):\n",
    "        countEmail = countEmail + 1\n",
    "    \n",
    "print(str(len(enron_data) - countSalary))\n",
    "print(str(len(enron_data) - countEmail))"
   ]
  },
  {
   "cell_type": "markdown",
   "metadata": {},
   "source": [
    "### Quiz: Missing POIs 1 (optional)\n",
    "\n",
    "How many people in the E+F dataset (as it currently exists) have “NaN” for their total payments? What percentage of people in the dataset as a whole is this?"
   ]
  },
  {
   "cell_type": "code",
   "execution_count": 49,
   "metadata": {
    "collapsed": false
   },
   "outputs": [
    {
     "name": "stdout",
     "output_type": "stream",
     "text": [
      "21\n",
      "146\n",
      "0\n"
     ]
    },
    {
     "data": {
      "text/plain": [
       "'0.00'"
      ]
     },
     "execution_count": 49,
     "metadata": {},
     "output_type": "execute_result"
    }
   ],
   "source": [
    "countPayment = 0\n",
    "for person in enron_data:\n",
    "    if (enron_data[person][\"total_payments\"] == 'NaN'):    \n",
    "        countPayment = countPayment + 1   \n",
    "\n",
    "aux = 21/146\n",
    "print(str(countPayment))\n",
    "print(str(len(enron_data)))\n",
    "print(str(aux))\n",
    "format(aux, '.2f')"
   ]
  },
  {
   "cell_type": "markdown",
   "metadata": {},
   "source": [
    "### Quiz: Missing POIs 2 (optional)\n",
    "\n",
    "How many POIs in the E+F dataset have “NaN” for their total payments? What percentage of POI’s as a whole is this?\n"
   ]
  },
  {
   "cell_type": "code",
   "execution_count": 50,
   "metadata": {
    "collapsed": false
   },
   "outputs": [
    {
     "name": "stdout",
     "output_type": "stream",
     "text": [
      "0\n"
     ]
    }
   ],
   "source": [
    "countPaymentPOI = 0\n",
    "for p in poi:\n",
    "    if (enron_data[p][\"total_payments\"] == 'NaN'):    \n",
    "        countPaymentPOI = countPaymentPOI + 1  \n",
    "        \n",
    "print(str(countPaymentPOI))"
   ]
  }
 ],
 "metadata": {
  "anaconda-cloud": {},
  "kernelspec": {
   "display_name": "Python [conda root]",
   "language": "python",
   "name": "conda-root-py"
  },
  "language_info": {
   "codemirror_mode": {
    "name": "ipython",
    "version": 2
   },
   "file_extension": ".py",
   "mimetype": "text/x-python",
   "name": "python",
   "nbconvert_exporter": "python",
   "pygments_lexer": "ipython2",
   "version": "2.7.12"
  }
 },
 "nbformat": 4,
 "nbformat_minor": 1
}
